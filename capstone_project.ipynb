{
 "cells": [
  {
   "cell_type": "markdown",
   "metadata": {},
   "source": [
    "# IBM Data Science Professional Certificate capstone project\n",
    "\n",
    "## Capstone Project - The Battle of Neighborhoods\n"
   ]
  },
  {
   "cell_type": "markdown",
   "metadata": {},
   "source": [
    "## Table of contents\n",
    "1. Introduction.\n",
    "2. Data.\n",
    "3. Methodology.\n",
    "4. Discussion.\n",
    "5. Conclusion."
   ]
  },
  {
   "cell_type": "markdown",
   "metadata": {},
   "source": [
    "## 1. Introduction"
   ]
  },
  {
   "cell_type": "markdown",
   "metadata": {},
   "source": [
    "### 1.1. Background\n",
    "\n",
    "The city of Buenos Aires, Federal District and capital of Argentina, is the most populated city in the Argentine Republic with a population of approximately 3,000,000 (2010) and the Metropolitan Area of Buenos Aires (AMBA), made up of the city of Buenos Aires and 40 surrounding *municipios*, 15,000,000 (2010), according to the National Institute of Statistics and Censuses of the Argentine Republic.\n",
    "\n",
    "The city of Buenos Aires is among the cities with the highest quality of life in Latin America, and its per capita income is among the three highest in the region. It is the most visited city in South America due to its cultural diversity, commerce, industry, politics, culture, and technology.\n",
    "\n",
    "The 2010 national census estimated that approximately 2,000,000 immigrants born in another country resided in Argentina, equivalent to 4.5% of the population. At a global level, Argentina is ranked 29th for the number of immigrants in its territory, being the largest recipient of immigrants from Latin America and Buenos Aires being one of the main cities that houses this foreign population."
   ]
  },
  {
   "cell_type": "markdown",
   "metadata": {},
   "source": [
    "### 1.2. Business Problem\n",
    "\n",
    "Given the large amount of immigrant population that the city of Buenos Aires has, it is presented as a great opportunity, to open a restaurant that satisfies a gastronomic need for typical food of some foreign country or countries, analyzing the amount of immigrant population by areas, as well the existing competition in them, in order to obtain as a result the best area to open the restaurant and the best type of food to sell, that is, if it will be for example, a Peruvian, Spanish or Indian restaurant."
   ]
  },
  {
   "cell_type": "markdown",
   "metadata": {},
   "source": [
    "## 2. Data"
   ]
  },
  {
   "cell_type": "markdown",
   "metadata": {},
   "source": [
    "The data used for this project are presented below:\n",
    "\n",
    " 1 - Foursquare Location Data: Venues information of each commune/neighborhood. We are only going to use the restaurants and their coordinates.\n",
    "\n",
    " 2 - Buenos Aires communes and neighbourhoods dataset: All the names of Buenos Aires communes and its neighborhoods.\n",
    " \n",
    " https://cdn.buenosaires.gob.ar/datosabiertos/datasets/comunas/comunas.csv\n",
    "\n",
    " 3 - GeoJson dataset: Communes boundaries that will help to visualize communes on the map.\n",
    "\n",
    " https://cdn.buenosaires.gob.ar/datosabiertos/datasets/comunas/CABA_comunas.geojson\n",
    "\n",
    " 4 - Coordinates of Buenos Aires communes: Latitude and longitude of each Buenos Aires commune.\n",
    "\n",
    " https://www.municipalidad-argentina.com.ar/municipalidad-buenos-aires-ar.html\n",
    "\n",
    " 5 - Foreign population of communes dataset: Number of foreign population of each commune.\n",
    "\n",
    " https://www.indec.gob.ar/indec/web/Nivel4-Tema-2-41-135"
   ]
  },
  {
   "cell_type": "code",
   "execution_count": 2,
   "metadata": {},
   "outputs": [],
   "source": [
    "import pandas as pd\n",
    "import numpy as np\n",
    "import matplotlib.pyplot as plt"
   ]
  },
  {
   "cell_type": "code",
   "execution_count": null,
   "metadata": {},
   "outputs": [],
   "source": []
  }
 ],
 "metadata": {
  "interpreter": {
   "hash": "767d51c1340bd893661ea55ea3124f6de3c7a262a8b4abca0554b478b1e2ff90"
  },
  "kernelspec": {
   "display_name": "Python 3.9.5 64-bit",
   "name": "python3"
  },
  "language_info": {
   "name": "python",
   "version": ""
  },
  "orig_nbformat": 2
 },
 "nbformat": 4,
 "nbformat_minor": 2
}